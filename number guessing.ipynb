{
 "cells": [
  {
   "cell_type": "code",
   "execution_count": 5,
   "id": "81a20591-b886-4384-8626-76363592b7df",
   "metadata": {},
   "outputs": [
    {
     "name": "stdin",
     "output_type": "stream",
     "text": [
      "enter the number 20\n",
      "guess the number 10\n"
     ]
    },
    {
     "name": "stdout",
     "output_type": "stream",
     "text": [
      "congractulations your guess is correct\n",
      "user take 1 chances to guess the number\n"
     ]
    }
   ],
   "source": [
    "# number guessing game\n",
    "import random\n",
    "upper_limit=int(input(\"enter the number\"))\n",
    "random_number=random.randrange(1,upper_limit)\n",
    "chances=0\n",
    "while(True):\n",
    "    user_number=int(input(\"guess the number\"))\n",
    "    chances+=1\n",
    "    if user_number>random_number:\n",
    "        print(\"your guess is too high\")\n",
    "        print(\"please again guess the number\")\n",
    "    elif user_number<random_number:\n",
    "        print(\"your guess is too low\")\n",
    "        print(\"please again guess the number\")\n",
    "    elif user_number==random_number:\n",
    "        print(\"congractulations your guess is correct\")\n",
    "        break\n",
    "print(f\"user take {chances} chances to guess the number\")\n",
    "        \n",
    "                    "
   ]
  },
  {
   "cell_type": "code",
   "execution_count": null,
   "id": "2f6e0b52-e1d1-462b-bc97-6951a79a027b",
   "metadata": {},
   "outputs": [],
   "source": []
  }
 ],
 "metadata": {
  "kernelspec": {
   "display_name": "Python 3 (ipykernel)",
   "language": "python",
   "name": "python3"
  },
  "language_info": {
   "codemirror_mode": {
    "name": "ipython",
    "version": 3
   },
   "file_extension": ".py",
   "mimetype": "text/x-python",
   "name": "python",
   "nbconvert_exporter": "python",
   "pygments_lexer": "ipython3",
   "version": "3.12.4"
  }
 },
 "nbformat": 4,
 "nbformat_minor": 5
}
